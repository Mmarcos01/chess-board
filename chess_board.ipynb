{
 "cells": [
  {
   "cell_type": "code",
   "execution_count": 1,
   "source": [
    "import numpy as np\n",
    "import matplotlib.pyplot as plt"
   ],
   "outputs": [],
   "metadata": {}
  },
  {
   "cell_type": "code",
   "execution_count": 10,
   "source": [
    "class Board:\n",
    "    def __init__(self):\n",
    "            self.grid = np.ones((8,8,3))\n",
    "            self.grid[1::2, ::2] = 0\n",
    "            self.grid[::2, 1::2] = 0\n",
    "\n",
    "    def add_red(self, red_row, red_col):\n",
    "            self.red_row = red_row\n",
    "            self.red_col = red_col\n",
    "            self.grid[red_row, red_col] = (1, 0, 0)\n",
    "\n",
    "    def add_blue(self, blue_row, blue_col):\n",
    "            self.blue_row = blue_row\n",
    "            self.blue_col = blue_col\n",
    "            self.grid[blue_row, blue_col] = (0, 0, 1)\n",
    "\n",
    "    def render(self):\n",
    "            plt.imshow(self.grid)\n",
    "\n",
    "    def is_under_attack(self):\n",
    "            if self.red_row == self.blue_row:\n",
    "                return True\n",
    "            elif self.red_col == self.blue_col:\n",
    "                return True\n",
    "            elif abs(self.red_row - self.blue_row) == abs(self.red_col - self.blue_col):\n",
    "                return True\n",
    "            else:\n",
    "                return False\n",
    "\n",
    " "
   ],
   "outputs": [],
   "metadata": {}
  },
  {
   "cell_type": "code",
   "execution_count": 11,
   "source": [
    "board = Board()\n",
    "board.add_red(1,3)\n",
    "board.add_blue(1, 6)\n",
    "board.render()\n",
    "assert board.is_under_attack()\n",
    "print('********* UNDER ATTACK ********')"
   ],
   "outputs": [
    {
     "output_type": "stream",
     "name": "stdout",
     "text": [
      "********* UNDER ATTACK ********\n"
     ]
    },
    {
     "output_type": "display_data",
     "data": {
      "text/plain": [
       "<Figure size 432x288 with 1 Axes>"
      ],
      "image/png": "[encoded data removed]"
     },
     "metadata": {
      "needs_background": "light"
     }
    }
   ],
   "metadata": {}
  },
  {
   "cell_type": "code",
   "execution_count": 12,
   "source": [
    "board = Board()\n",
    "board.add_red(1,3)\n",
    "board.add_blue(6, 3)\n",
    "board.render()\n",
    "assert board.is_under_attack()\n",
    "print('********* UNDER ATTACK ********')"
   ],
   "outputs": [
    {
     "output_type": "stream",
     "name": "stdout",
     "text": [
      "********* UNDER ATTACK ********\n"
     ]
    },
    {
     "output_type": "display_data",
     "data": {
      "text/plain": [
       "<Figure size 432x288 with 1 Axes>"
      ],
      "image/png": "[encoded data removed]"
     },
     "metadata": {
      "needs_background": "light"
     }
    }
   ],
   "metadata": {}
  },
  {
   "cell_type": "code",
   "execution_count": 16,
   "source": [
    "board = Board()\n",
    "board.add_red(1,3)\n",
    "board.add_blue(4, 0)\n",
    "board.render()\n",
    "assert board.is_under_attack()\n",
    "print('********* UNDER ATTACK ********')"
   ],
   "outputs": [
    {
     "output_type": "stream",
     "name": "stdout",
     "text": [
      "********* UNDER ATTACK ********\n"
     ]
    },
    {
     "output_type": "display_data",
     "data": {
      "text/plain": [
       "<Figure size 432x288 with 1 Axes>"
      ],
      "image/png": "[encoded data removed]"
     },
     "metadata": {
      "needs_background": "light"
     }
    }
   ],
   "metadata": {}
  },
  {
   "cell_type": "code",
   "execution_count": 18,
   "source": [
    "board = Board()\n",
    "board.add_red(1,3)\n",
    "board.add_blue(6, 5)\n",
    "board.render()\n",
    "assert not board.is_under_attack()\n",
    "print('********* SAFE ********')"
   ],
   "outputs": [
    {
     "output_type": "stream",
     "name": "stdout",
     "text": [
      "********* SAFE ********\n"
     ]
    },
    {
     "output_type": "display_data",
     "data": {
      "text/plain": [
       "<Figure size 432x288 with 1 Axes>"
      ],
      "image/png": "[encoded data removed]"
     },
     "metadata": {
      "needs_background": "light"
     }
    }
   ],
   "metadata": {}
  }
 ],
 "metadata": {
  "orig_nbformat": 4,
  "language_info": {
   "name": "python"
  }
 },
 "nbformat": 4,
 "nbformat_minor": 2
}